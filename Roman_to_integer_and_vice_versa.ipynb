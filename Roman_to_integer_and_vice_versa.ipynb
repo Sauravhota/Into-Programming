{
  "nbformat": 4,
  "nbformat_minor": 0,
  "metadata": {
    "colab": {
      "name": "Roman to integer and vice versa",
      "provenance": [],
      "authorship_tag": "ABX9TyPxEYAj/HPZ6Izw5gtOs9ck",
      "include_colab_link": true
    },
    "kernelspec": {
      "name": "python3",
      "display_name": "Python 3"
    },
    "language_info": {
      "name": "python"
    }
  },
  "cells": [
    {
      "cell_type": "markdown",
      "metadata": {
        "id": "view-in-github",
        "colab_type": "text"
      },
      "source": [
        "<a href=\"https://colab.research.google.com/github/Sauravhota/Into-Programming/blob/main/Roman_to_integer_and_vice_versa.ipynb\" target=\"_parent\"><img src=\"https://colab.research.google.com/assets/colab-badge.svg\" alt=\"Open In Colab\"/></a>"
      ]
    },
    {
      "cell_type": "code",
      "execution_count": 6,
      "metadata": {
        "id": "YSvSbwseoW6C"
      },
      "outputs": [],
      "source": [
        "#roman to integer"
      ]
    },
    {
      "cell_type": "code",
      "source": [
        "class Solution:\n",
        "  def roman2int(self, s:str) -> int:\n",
        "\n",
        "    roman = {\"I\" : 1, \"V\" : 5, \"X\" : 10, \"L\" : 50, \"C\" : 100, \"D\" : 500, \"M\" : 1000}\n",
        "    res = 0\n",
        "\n",
        "    for i in range(len(s)):\n",
        "      if i+1 < len(s) and roman[s[i]] < roman[s[i+1]]:\n",
        "        res -= roman[s[i]]\n",
        "      else:\n",
        "        res += roman[s[i]]\n",
        "    return res\n",
        "\n",
        "A = Solution()\n",
        "A.roman2int(\"XVICM\")\n"
      ],
      "metadata": {
        "colab": {
          "base_uri": "https://localhost:8080/"
        },
        "id": "19-WXYaz6DOo",
        "outputId": "43119bf4-1261-4743-851f-c38c90a26492"
      },
      "execution_count": 22,
      "outputs": [
        {
          "output_type": "execute_result",
          "data": {
            "text/plain": [
              "914"
            ]
          },
          "metadata": {},
          "execution_count": 22
        }
      ]
    },
    {
      "cell_type": "code",
      "source": [
        "class Solutions:\n",
        "  def int2roman( self, num : int) -> str:\n",
        "    symvalulist = [[\"I\" , 1], [ \"IV\", 4], [\"V\", 5], [\"IX\", 9], [\"X\", 10], [\"XL\", 40], [\"L\", 50], [\"XC\", 90], [\"C\", 100], [\"CD\", 400], [\"D\", 500], [\"CM\", 900], [\"M\", 1000]]\n",
        "\n",
        "    res = \"\"\n",
        "    for sym, val in reversed(symvalulist):\n",
        "      if num // val:\n",
        "\t      count = num // val\n",
        "\t      res += (sym * count)\n",
        "\t      num = num % val\n",
        "    return res\n",
        "\n",
        "X = Solutions()\n",
        "X.int2roman(250)"
      ],
      "metadata": {
        "colab": {
          "base_uri": "https://localhost:8080/",
          "height": 36
        },
        "id": "drXyTb_9LjkS",
        "outputId": "783d250e-50db-456c-af3f-fbcb62f1b6a3"
      },
      "execution_count": 26,
      "outputs": [
        {
          "output_type": "execute_result",
          "data": {
            "text/plain": [
              "'CCL'"
            ],
            "application/vnd.google.colaboratory.intrinsic+json": {
              "type": "string"
            }
          },
          "metadata": {},
          "execution_count": 26
        }
      ]
    }
  ]
}