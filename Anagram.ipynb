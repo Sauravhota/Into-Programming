{
  "nbformat": 4,
  "nbformat_minor": 0,
  "metadata": {
    "colab": {
      "name": "Anagram.ipynb",
      "provenance": [],
      "toc_visible": true,
      "authorship_tag": "ABX9TyNvgyM1FCIzugCpBFhusa3A",
      "include_colab_link": true
    },
    "kernelspec": {
      "name": "python3",
      "display_name": "Python 3"
    },
    "language_info": {
      "name": "python"
    }
  },
  "cells": [
    {
      "cell_type": "markdown",
      "metadata": {
        "id": "view-in-github",
        "colab_type": "text"
      },
      "source": [
        "<a href=\"https://colab.research.google.com/github/Sauravhota/Into-Programming/blob/main/Anagram.ipynb\" target=\"_parent\"><img src=\"https://colab.research.google.com/assets/colab-badge.svg\" alt=\"Open In Colab\"/></a>"
      ]
    },
    {
      "cell_type": "code",
      "execution_count": null,
      "metadata": {
        "id": "i2iamYB_I8cp"
      },
      "outputs": [],
      "source": [
        "# anagram\n"
      ]
    },
    {
      "cell_type": "code",
      "source": [
        "def anagram(string1, string2):\n",
        "  buffer = [0] * 26\n",
        "  for char in string1 :\n",
        "    buffer[ord(char)- ord('a')] += 1\n",
        "  for char in string2:\n",
        "    buffer[ord(char)-ord('a')] += 1\n",
        "  return sum(map(abs,buffer))\n",
        "\n",
        "if __name__ == \"__main__\" :\n",
        "  string1= 'abcdfgh'\n",
        "  string2= 'acdfh'\n",
        "  print(anagram(string1, string2))"
      ],
      "metadata": {
        "colab": {
          "base_uri": "https://localhost:8080/"
        },
        "id": "puw0DK7VJEMF",
        "outputId": "653a69ae-fbce-4990-f6d1-200d0778b3f0"
      },
      "execution_count": null,
      "outputs": [
        {
          "output_type": "stream",
          "name": "stdout",
          "text": [
            "12\n"
          ]
        }
      ]
    },
    {
      "cell_type": "code",
      "source": [
        "chars = 26\n",
        "def anagram1(str1,str2):\n",
        "  count1 = [0] * chars\n",
        "  count2 = [0] * chars\n",
        "  i = 0\n",
        "  while i < len(str1):\n",
        "      count1[ord(str1[i]) - ord('a')] +=1\n",
        "      i+=1\n",
        "  i = 0\n",
        "  while i < len(str2):\n",
        "      count2[ord(str2[i]) - ord('a')] +=1\n",
        "      i+=1\n",
        "\n",
        "  result = 0\n",
        "  for i in range(26):\n",
        "      result += abs(count1[i]) - abs(count2[i])\n",
        "  return result\n",
        "\n",
        "a = 'abcdfgh'\n",
        "b = 'acdfhba'\n",
        "print(anagram1(a,b))"
      ],
      "metadata": {
        "colab": {
          "base_uri": "https://localhost:8080/"
        },
        "id": "4T4OjHC_MJIH",
        "outputId": "2e62e496-186d-4dbe-ef18-9dd6cc50cdb5"
      },
      "execution_count": null,
      "outputs": [
        {
          "output_type": "stream",
          "name": "stdout",
          "text": [
            "0\n"
          ]
        }
      ]
    }
  ]
}